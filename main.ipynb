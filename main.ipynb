{
 "cells": [
  {
   "cell_type": "code",
   "execution_count": 2,
   "metadata": {},
   "outputs": [],
   "source": [
    "import os\n",
    "import pandas as pd\n",
    "from sklearn.model_selection import train_test_split\n",
    "from sklearn.svm import SVC\n",
    "from sklearn.metrics import classification_report, accuracy_score\n",
    "path_root = os.path.dirname(os.getcwd())\n",
    "path_data1 = os.path.join(path_root, \"18752project\")\n",
    "path_data = os.path.join(path_data1, \"data\")\n",
    "# Paths to the datasets\n",
    "data_path = os.path.join(path_data, \"weather_dataset.csv\")\n",
    "label_data_path = os.path.join(path_data, \"weather_prediction_sleep_labels.csv\")\n",
    "\n",
    "# Load the datasets\n",
    "features_df = pd.read_csv(data_path)\n",
    "labels_df = pd.read_csv(label_data_path)\n",
    "\n",
    "# Merge the features and labels DataFrames on the 'DATE' column or another appropriate key\n",
    "full_dataset = pd.merge(features_df, labels_df, on='DATE')\n",
    "\n",
    "# Assuming 'sleep_label' is the name of your target column in labels_df\n",
    "X = full_dataset.drop(columns=['sleep_weather', 'DATE'])  # Drop the label and any non-feature columns\n",
    "y = full_dataset['sleep_weather']  # Target labels\n",
    "\n",
    "# Split the dataset into training and testing sets\n",
    "X_train, X_test, y_train, y_test = train_test_split(X, y, test_size=0.2, random_state=42)\n",
    "\n"
   ]
  },
  {
   "cell_type": "code",
   "execution_count": 3,
   "metadata": {},
   "outputs": [
    {
     "name": "stdout",
     "output_type": "stream",
     "text": [
      "Accuracy of SVM classifier: 0.8768809849521204\n",
      "Classification report:\n",
      "               precision    recall  f1-score   support\n",
      "\n",
      "       False       0.90      0.87      0.89       408\n",
      "        True       0.85      0.88      0.86       323\n",
      "\n",
      "    accuracy                           0.88       731\n",
      "   macro avg       0.87      0.88      0.88       731\n",
      "weighted avg       0.88      0.88      0.88       731\n",
      "\n"
     ]
    }
   ],
   "source": [
    "# Initialize and train the Support Vector Machine classifier\n",
    "svm_classifier = SVC(kernel='linear')  # Using a linear kernel for simplicity\n",
    "svm_classifier.fit(X_train, y_train)\n",
    "\n",
    "# Predict the labels on the test dataset\n",
    "y_pred = svm_classifier.predict(X_test)\n",
    "\n",
    "# Evaluate the classifier's performance\n",
    "accuracy = accuracy_score(y_test, y_pred)\n",
    "report = classification_report(y_test, y_pred)\n",
    "\n",
    "print(\"Accuracy of SVM classifier:\", accuracy)\n",
    "print(\"Classification report:\\n\", report)\n"
   ]
  },
  {
   "cell_type": "code",
   "execution_count": 12,
   "metadata": {},
   "outputs": [
    {
     "name": "stdout",
     "output_type": "stream",
     "text": [
      "Accuracy of KNN classifier: 0.8891928864569083\n",
      "Classification report for KNN:\n",
      "               precision    recall  f1-score   support\n",
      "\n",
      "       False       0.93      0.87      0.90       408\n",
      "        True       0.85      0.92      0.88       323\n",
      "\n",
      "    accuracy                           0.89       731\n",
      "   macro avg       0.89      0.89      0.89       731\n",
      "weighted avg       0.89      0.89      0.89       731\n",
      "\n"
     ]
    }
   ],
   "source": [
    "# KNN classifier\n",
    "\n",
    "from sklearn.neighbors import KNeighborsClassifier\n",
    "\n",
    "# Initialize the K-Nearest Neighbors classifier with 5 neighbors (default)\n",
    "knn_classifier = KNeighborsClassifier(n_neighbors=9)\n",
    "\n",
    "# Train the classifier\n",
    "knn_classifier.fit(X_train, y_train)\n",
    "\n",
    "# Predict the labels on the test dataset\n",
    "y_pred_knn = knn_classifier.predict(X_test)\n",
    "\n",
    "# Evaluate the classifier's performance\n",
    "accuracy_knn = accuracy_score(y_test, y_pred_knn)\n",
    "report_knn = classification_report(y_test, y_pred_knn)\n",
    "\n",
    "print(\"Accuracy of KNN classifier:\", accuracy_knn)\n",
    "print(\"Classification report for KNN:\\n\", report_knn)\n"
   ]
  },
  {
   "cell_type": "code",
   "execution_count": 13,
   "metadata": {},
   "outputs": [
    {
     "name": "stdout",
     "output_type": "stream",
     "text": [
      "Accuracy of Logistic Regression classifier: 0.8755129958960328\n",
      "Classification report for Logistic Regression:\n",
      "               precision    recall  f1-score   support\n",
      "\n",
      "       False       0.90      0.87      0.89       408\n",
      "        True       0.84      0.88      0.86       323\n",
      "\n",
      "    accuracy                           0.88       731\n",
      "   macro avg       0.87      0.88      0.87       731\n",
      "weighted avg       0.88      0.88      0.88       731\n",
      "\n"
     ]
    }
   ],
   "source": [
    "from sklearn.linear_model import LogisticRegression\n",
    "\n",
    "# Initialize the Logistic Regression classifier\n",
    "logistic_regression_classifier = LogisticRegression(max_iter=1000)  # Increase max_iter if needed for convergence\n",
    "\n",
    "# Train the classifier\n",
    "logistic_regression_classifier.fit(X_train, y_train)\n",
    "\n",
    "# Predict the labels on the test dataset\n",
    "y_pred_lr = logistic_regression_classifier.predict(X_test)\n",
    "\n",
    "# Evaluate the classifier's performance\n",
    "accuracy_lr = accuracy_score(y_test, y_pred_lr)\n",
    "report_lr = classification_report(y_test, y_pred_lr)\n",
    "\n",
    "print(\"Accuracy of Logistic Regression classifier:\", accuracy_lr)\n",
    "print(\"Classification report for Logistic Regression:\\n\", report_lr)\n"
   ]
  }
 ],
 "metadata": {
  "kernelspec": {
   "display_name": "ML",
   "language": "python",
   "name": "python3"
  },
  "language_info": {
   "codemirror_mode": {
    "name": "ipython",
    "version": 3
   },
   "file_extension": ".py",
   "mimetype": "text/x-python",
   "name": "python",
   "nbconvert_exporter": "python",
   "pygments_lexer": "ipython3",
   "version": "3.11.5"
  }
 },
 "nbformat": 4,
 "nbformat_minor": 2
}
