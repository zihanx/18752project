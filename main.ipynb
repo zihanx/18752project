{
 "cells": [
  {
   "cell_type": "code",
   "execution_count": 7,
   "metadata": {},
   "outputs": [],
   "source": [
    "import os\n",
    "import pandas as pd\n",
    "from sklearn.model_selection import train_test_split\n",
    "from sklearn.metrics import classification_report, accuracy_score\n",
    "path_root = os.path.dirname(os.getcwd())\n",
    "path_data1 = os.path.join(path_root, \"18752project\")\n",
    "path_data = os.path.join(path_data1, \"data\")\n",
    "data_path = os.path.join(path_data, \"weather_dataset.csv\")\n",
    "label_data_path = os.path.join(path_data, \"weather_prediction_sleep_labels.csv\")\n",
    "\n",
    "# Load the datasets\n",
    "features_df = pd.read_csv(data_path)\n",
    "labels_df = pd.read_csv(label_data_path)\n",
    "\n",
    "# Merge the features and labels DataFrames on the 'DATE' column\n",
    "full_dataset = pd.merge(features_df, labels_df, on='DATE')\n",
    "\n",
    "X = full_dataset.drop(columns=['sleep_weather', 'DATE'])\n",
    "y = full_dataset['sleep_weather']\n",
    "\n",
    "# Split the dataset\n",
    "X_train, X_test, y_train, y_test = train_test_split(X, y, test_size=0.2, random_state=42)\n",
    "\n"
   ]
  },
  {
   "cell_type": "code",
   "execution_count": 8,
   "metadata": {},
   "outputs": [
    {
     "name": "stdout",
     "output_type": "stream",
     "text": [
      "Accuracy of SVM classifier: 0.8768809849521204\n",
      "Classification report:\n",
      "               precision    recall  f1-score   support\n",
      "\n",
      "       False       0.90      0.87      0.89       408\n",
      "        True       0.85      0.88      0.86       323\n",
      "\n",
      "    accuracy                           0.88       731\n",
      "   macro avg       0.87      0.88      0.88       731\n",
      "weighted avg       0.88      0.88      0.88       731\n",
      "\n"
     ]
    }
   ],
   "source": [
    "from sklearn.svm import SVC\n",
    "# Support Vector Machine classifier\n",
    "svm_classifier = SVC(kernel='linear')\n",
    "svm_classifier.fit(X_train, y_train)\n",
    "\n",
    "y_pred = svm_classifier.predict(X_test)\n",
    "\n",
    "accuracy = accuracy_score(y_test, y_pred)\n",
    "report = classification_report(y_test, y_pred)\n",
    "\n",
    "print(\"Accuracy of SVM classifier:\", accuracy)\n",
    "print(\"Classification report:\\n\", report)\n"
   ]
  },
  {
   "cell_type": "code",
   "execution_count": 9,
   "metadata": {},
   "outputs": [
    {
     "name": "stdout",
     "output_type": "stream",
     "text": [
      "Accuracy of Random Forest classifier: 0.8823529411764706\n",
      "Classification report:\n",
      "               precision    recall  f1-score   support\n",
      "\n",
      "       False       0.91      0.88      0.89       408\n",
      "        True       0.85      0.89      0.87       323\n",
      "\n",
      "    accuracy                           0.88       731\n",
      "   macro avg       0.88      0.88      0.88       731\n",
      "weighted avg       0.88      0.88      0.88       731\n",
      "\n"
     ]
    }
   ],
   "source": [
    "from sklearn.ensemble import RandomForestClassifier\n",
    "# Random Forest classifier\n",
    "random_forest_classifier = RandomForestClassifier(n_estimators=100, random_state=42)\n",
    "\n",
    "random_forest_classifier.fit(X_train, y_train)\n",
    "\n",
    "y_pred = random_forest_classifier.predict(X_test)\n",
    "\n",
    "accuracy = accuracy_score(y_test, y_pred)\n",
    "report = classification_report(y_test, y_pred)\n",
    "\n",
    "print(\"Accuracy of Random Forest classifier:\", accuracy)\n",
    "print(\"Classification report:\\n\", report)\n"
   ]
  }
 ],
 "metadata": {
  "kernelspec": {
   "display_name": "ML",
   "language": "python",
   "name": "python3"
  },
  "language_info": {
   "codemirror_mode": {
    "name": "ipython",
    "version": 3
   },
   "file_extension": ".py",
   "mimetype": "text/x-python",
   "name": "python",
   "nbconvert_exporter": "python",
   "pygments_lexer": "ipython3",
   "version": "3.7.13"
  }
 },
 "nbformat": 4,
 "nbformat_minor": 2
}
